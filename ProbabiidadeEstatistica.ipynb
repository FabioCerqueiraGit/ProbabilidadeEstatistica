{
  "nbformat": 4,
  "nbformat_minor": 0,
  "metadata": {
    "colab": {
      "provenance": [],
      "authorship_tag": "ABX9TyOyYrsxkjf7lTlh+bI4F9uc",
      "include_colab_link": true
    },
    "kernelspec": {
      "name": "python3",
      "display_name": "Python 3"
    },
    "language_info": {
      "name": "python"
    }
  },
  "cells": [
    {
      "cell_type": "markdown",
      "metadata": {
        "id": "view-in-github",
        "colab_type": "text"
      },
      "source": [
        "<a href=\"https://colab.research.google.com/github/FabioCerqueiraGit/ProbabilidadeEstatistica/blob/main/ProbabiidadeEstatistica.ipynb\" target=\"_parent\"><img src=\"https://colab.research.google.com/assets/colab-badge.svg\" alt=\"Open In Colab\"/></a>"
      ]
    },
    {
      "cell_type": "markdown",
      "source": [
        "# Probabilidade e Estatística\n",
        "\n",
        "Scripts para resolver questões de Probabilidade e Estatística. Aqui está uma lista inicial de tópicos que vamos cobrir com os scripts:\n",
        "\n",
        "*   Distribuição de Frequências\n",
        "*   Medidas de Tendência Central (Média, Mediana, Moda)\n",
        "*   Medidas de Dispersão (Variância, Desvio Padrão, Amplitude)\n",
        "*   Distribuições de Probabilidade (Binomial, Poisson, Normal)\n",
        "*   Intervalo de Confiança\n",
        "*   Testes de Hipóteses\n",
        "\n",
        "Vou criar um exemplo de script para cada tópico mencionado. Após isso ireimos adicionar problemas reais e resolver cada um deles."
      ],
      "metadata": {
        "id": "a9op07aFT9Ma"
      }
    },
    {
      "cell_type": "markdown",
      "source": [
        "# 1. Distribuição de Frequências"
      ],
      "metadata": {
        "id": "qAEORTaEU6aP"
      }
    },
    {
      "cell_type": "code",
      "source": [
        "import pandas as pd\n",
        "\n",
        "# Exemplo de dados\n",
        "data = [1, 2, 2, 2, 3, 3, 4, 4, 4, 4, 5, 5, 6, 6, 7]\n",
        "\n",
        "# Criando a distribuição de frequências\n",
        "frequency_distribution = pd.Series(data).value_counts().sort_index()\n",
        "\n",
        "print(\"Distribuição de Frequências:\")\n",
        "print(frequency_distribution)\n"
      ],
      "metadata": {
        "colab": {
          "base_uri": "https://localhost:8080/"
        },
        "id": "SaqASUdTT84E",
        "outputId": "c7ef4aa6-7bc3-4479-f2c0-82de82e017f4"
      },
      "execution_count": 1,
      "outputs": [
        {
          "output_type": "stream",
          "name": "stdout",
          "text": [
            "Distribuição de Frequências:\n",
            "1    1\n",
            "2    3\n",
            "3    2\n",
            "4    4\n",
            "5    2\n",
            "6    2\n",
            "7    1\n",
            "Name: count, dtype: int64\n"
          ]
        }
      ]
    },
    {
      "cell_type": "markdown",
      "source": [
        "# 2. Medidas de Tendência Central"
      ],
      "metadata": {
        "id": "8fsLqz_fU_mF"
      }
    },
    {
      "cell_type": "code",
      "execution_count": null,
      "metadata": {
        "id": "MKNyhOkcS95y"
      },
      "outputs": [],
      "source": []
    },
    {
      "cell_type": "markdown",
      "source": [
        "# 3. Medidas de Dispersão"
      ],
      "metadata": {
        "id": "ilQakyaKVDb4"
      }
    },
    {
      "cell_type": "code",
      "source": [
        "# Exemplo de dados\n",
        "data = [1, 2, 2, 2, 3, 3, 4, 4, 4, 4, 5, 5, 6, 6, 7]\n",
        "\n",
        "# Calculando variância, desvio padrão e amplitude\n",
        "variance = np.var(data, ddof=1)\n",
        "std_deviation = np.std(data, ddof=1)\n",
        "range_ = np.ptp(data)\n",
        "\n",
        "print(f\"Variância: {variance}\")\n",
        "print(f\"Desvio Padrão: {std_deviation}\")\n",
        "print(f\"Amplitude: {range_}\")\n"
      ],
      "metadata": {
        "id": "FwAKyvNSVFwA"
      },
      "execution_count": null,
      "outputs": []
    },
    {
      "cell_type": "markdown",
      "source": [
        "# 4. Distribuições de Probabilidade"
      ],
      "metadata": {
        "id": "GHMhH2NPVHnq"
      }
    },
    {
      "cell_type": "markdown",
      "source": [
        "**Binomial**"
      ],
      "metadata": {
        "id": "34fL_ii7VRUi"
      }
    },
    {
      "cell_type": "code",
      "source": [
        "from scipy.stats import binom\n",
        "\n",
        "# Parâmetros da distribuição binomial\n",
        "n = 10  # Número de experimentos\n",
        "p = 0.5  # Probabilidade de sucesso\n",
        "\n",
        "# Distribuição binomial\n",
        "binom_distribution = binom.pmf(range(n+1), n, p)\n",
        "\n",
        "print(\"Distribuição Binomial:\")\n",
        "print(binom_distribution)\n"
      ],
      "metadata": {
        "id": "akud1c_2VK0G"
      },
      "execution_count": null,
      "outputs": []
    },
    {
      "cell_type": "markdown",
      "source": [
        "**Poisson**"
      ],
      "metadata": {
        "id": "Pvt5t8BlVO6S"
      }
    },
    {
      "cell_type": "code",
      "source": [
        "from scipy.stats import poisson\n",
        "\n",
        "# Parâmetro da distribuição Poisson\n",
        "lambda_ = 3\n",
        "\n",
        "# Distribuição Poisson\n",
        "poisson_distribution = poisson.pmf(range(10), lambda_)\n",
        "\n",
        "print(\"Distribuição Poisson:\")\n",
        "print(poisson_distribution)\n"
      ],
      "metadata": {
        "id": "pKENnZOoVZex"
      },
      "execution_count": null,
      "outputs": []
    },
    {
      "cell_type": "markdown",
      "source": [
        "**Normal**"
      ],
      "metadata": {
        "id": "y7XQq_deVbGp"
      }
    },
    {
      "cell_type": "code",
      "source": [
        "import matplotlib.pyplot as plt\n",
        "from scipy.stats import norm\n",
        "\n",
        "# Parâmetros da distribuição normal\n",
        "mu = 0\n",
        "sigma = 1\n",
        "\n",
        "# Distribuição normal\n",
        "x = np.linspace(mu - 3*sigma, mu + 3*sigma, 100)\n",
        "normal_distribution = norm.pdf(x, mu, sigma)\n",
        "\n",
        "plt.plot(x, normal_distribution)\n",
        "plt.title(\"Distribuição Normal\")\n",
        "plt.xlabel(\"Valor\")\n",
        "plt.ylabel(\"Densidade de Probabilidade\")\n",
        "plt.show()\n"
      ],
      "metadata": {
        "id": "8c5LFBi2VdCS"
      },
      "execution_count": null,
      "outputs": []
    },
    {
      "cell_type": "markdown",
      "source": [
        "# 5. Intervalo de Confiança"
      ],
      "metadata": {
        "id": "uF2U65oiVgFm"
      }
    },
    {
      "cell_type": "code",
      "source": [
        "import scipy.stats as st\n",
        "\n",
        "# Exemplo de dados\n",
        "data = [1, 2, 2, 2, 3, 3, 4, 4, 4, 4, 5, 5, 6, 6, 7]\n",
        "\n",
        "# Intervalo de confiança de 95% para a média\n",
        "confidence_interval = st.t.interval(0.95, len(data)-1, loc=np.mean(data), scale=st.sem(data))\n",
        "\n",
        "print(f\"Intervalo de Confiança (95%): {confidence_interval}\")\n"
      ],
      "metadata": {
        "id": "1fi7zsn-Vhct"
      },
      "execution_count": null,
      "outputs": []
    },
    {
      "cell_type": "markdown",
      "source": [
        "# 6. Testes de Hipóteses"
      ],
      "metadata": {
        "id": "g0FWBoGJVjNN"
      }
    },
    {
      "cell_type": "markdown",
      "source": [
        "**Teste T de uma amostra**"
      ],
      "metadata": {
        "id": "yf5QyucaVmq9"
      }
    },
    {
      "cell_type": "code",
      "source": [
        "# Exemplo de dados\n",
        "data = [1, 2, 2, 2, 3, 3, 4, 4, 4, 4, 5, 5, 6, 6, 7]\n",
        "\n",
        "# Teste t de uma amostra\n",
        "t_statistic, p_value = st.ttest_1samp(data, 3)\n",
        "\n",
        "print(f\"Estatística t: {t_statistic}\")\n",
        "print(f\"Valor p: {p_value}\")\n"
      ],
      "metadata": {
        "id": "me4fJn-CVlRH"
      },
      "execution_count": null,
      "outputs": []
    },
    {
      "cell_type": "markdown",
      "source": [
        "**Teste T para duas amostras independentes**"
      ],
      "metadata": {
        "id": "0XXG0hN2VrRu"
      }
    },
    {
      "cell_type": "code",
      "source": [
        "# Exemplo de dados\n",
        "data1 = [1, 2, 2, 2, 3, 3, 4, 4, 4, 4, 5, 5, 6, 6, 7]\n",
        "data2 = [2, 3, 3, 3, 4, 4, 5, 5, 5, 5, 6, 6, 7, 7, 8]\n",
        "\n",
        "# Teste t para duas amostras independentes\n",
        "t_statistic, p_value = st.ttest_ind(data1, data2)\n",
        "\n",
        "print(f\"Estatística t: {t_statistic}\")\n",
        "print(f\"Valor p: {p_value}\")\n"
      ],
      "metadata": {
        "id": "R3bNPnSjVup-"
      },
      "execution_count": null,
      "outputs": []
    },
    {
      "cell_type": "markdown",
      "source": [
        "# Resolvendo problemas reais"
      ],
      "metadata": {
        "id": "cyJTXMJBWb2F"
      }
    },
    {
      "cell_type": "markdown",
      "source": [
        "**Segundo Castanheira (2008), a mediana de um conjunto de dados é o valor que ocupa a posição central desses dados.\n",
        "Dado o conjunto de números na série 10, 20, 40, 50, 70, 80, qual será o valor da mediana?**"
      ],
      "metadata": {
        "id": "8xv8taaYWlHV"
      }
    },
    {
      "cell_type": "code",
      "source": [
        "def calcular_mediana():\n",
        "    # Solicitando a quantidade de números na série\n",
        "    qtd_numeros = int(input(\"Digite a quantidade de números na série: \"))\n",
        "\n",
        "    # Solicitando os números da série separados por vírgula\n",
        "    numeros_input = input(\"Digite os números da série separados por vírgula: \")\n",
        "\n",
        "    # Convertendo a entrada para uma lista de inteiros\n",
        "    numeros = list(map(int, numeros_input.split(',')))\n",
        "\n",
        "    # Verificando se a quantidade de números fornecida é igual à quantidade informada\n",
        "    if len(numeros) != qtd_numeros:\n",
        "        print(\"A quantidade de números fornecida não corresponde à quantidade informada.\")\n",
        "        return\n",
        "\n",
        "    # Ordenando a lista de números\n",
        "    numeros.sort()\n",
        "\n",
        "    # Calculando a mediana\n",
        "    n = len(numeros)\n",
        "    if n % 2 == 0:\n",
        "        mediana = (numeros[n//2 - 1] + numeros[n//2]) / 2\n",
        "    else:\n",
        "        mediana = numeros[n//2]\n",
        "\n",
        "    print(f\"A mediana da série é: {mediana}\")\n",
        "\n",
        "# Executando a função\n",
        "calcular_mediana()\n"
      ],
      "metadata": {
        "colab": {
          "base_uri": "https://localhost:8080/"
        },
        "id": "X78yAK-LWu2E",
        "outputId": "7b6f05ca-3331-4846-99a5-6ed4e9dbe686"
      },
      "execution_count": 2,
      "outputs": [
        {
          "output_type": "stream",
          "name": "stdout",
          "text": [
            "Digite a quantidade de números na série: 6\n",
            "Digite os números da série separados por vírgula: 10, 20, 40, 50, 70, 80\n",
            "A mediana da série é: 45.0\n"
          ]
        }
      ]
    }
  ]
}